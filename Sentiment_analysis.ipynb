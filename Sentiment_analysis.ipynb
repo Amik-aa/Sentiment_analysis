{
 "cells": [
  {
   "cell_type": "markdown",
   "id": "44326dbc",
   "metadata": {},
   "source": [
    "importing required libraries and packages"
   ]
  },
  {
   "cell_type": "code",
   "execution_count": 4,
   "id": "77c66f9b",
   "metadata": {},
   "outputs": [],
   "source": [
    "import numpy as np \n",
    "import pandas as pd\n",
    "import requests\n",
    "from bs4 import BeautifulSoup\n",
    "import re"
   ]
  },
  {
   "cell_type": "markdown",
   "id": "a7dd2c05",
   "metadata": {},
   "source": [
    "also install pytorch "
   ]
  },
  {
   "cell_type": "code",
   "execution_count": 8,
   "id": "5e9b5de3",
   "metadata": {},
   "outputs": [],
   "source": [
    "!pip install transformers requests beautifulsoup4 "
   ]
  },
  {
   "cell_type": "markdown",
   "id": "1de4e505",
   "metadata": {},
   "source": [
    "installing transformers for NLP model(a multilingual BERT model which allows us to perform sentiment analysis)"
   ]
  },
  {
   "cell_type": "code",
   "execution_count": 1,
   "id": "5798cdd8",
   "metadata": {
    "scrolled": true
   },
   "outputs": [],
   "source": [
    " import torch\n",
    " from transformers import AutoTokenizer, AutoModelForSequenceClassification"
   ]
  },
  {
   "cell_type": "markdown",
   "id": "540da025",
   "metadata": {},
   "source": [
    "this model gives us a sentiment score between 1 and 5"
   ]
  },
  {
   "cell_type": "code",
   "execution_count": null,
   "id": "eb637992",
   "metadata": {},
   "outputs": [],
   "source": [
    "tokenizer = AutoTokenizer.from_pretrained('nlptown/bert-base-multilingual-uncased-sentiment')"
   ]
  },
  {
   "cell_type": "markdown",
   "id": "9a63ac67",
   "metadata": {},
   "source": [
    "Instantiating and setting up the model"
   ]
  },
  {
   "cell_type": "code",
   "execution_count": null,
   "id": "6d45ca97",
   "metadata": {},
   "outputs": [],
   "source": [
    "mdl = AutoModelForSequenceClassification.from_pretrained('nlptown/bert-base-multilingual-uncased-sentiment')"
   ]
  },
  {
   "cell_type": "markdown",
   "id": "8457b134",
   "metadata": {},
   "source": [
    "Created our tokenizer and model, loaded a pretrained model"
   ]
  },
  {
   "cell_type": "markdown",
   "id": "23d3e0ef",
   "metadata": {},
   "source": [
    "Encode and calculate sentiment"
   ]
  },
  {
   "cell_type": "code",
   "execution_count": null,
   "id": "2ead09e0",
   "metadata": {},
   "outputs": [],
   "source": [
    "tokens = tokenizer.encode('It was really good, Great', return_tensors='pt')"
   ]
  },
  {
   "cell_type": "code",
   "execution_count": null,
   "id": "fba7a4a2",
   "metadata": {},
   "outputs": [],
   "source": [
    "tokens"
   ]
  },
  {
   "cell_type": "code",
   "execution_count": null,
   "id": "a45f3657",
   "metadata": {},
   "outputs": [],
   "source": [
    "result = mdl(tokens)"
   ]
  },
  {
   "cell_type": "code",
   "execution_count": null,
   "id": "73a78333",
   "metadata": {},
   "outputs": [],
   "source": [
    "result.logits"
   ]
  },
  {
   "cell_type": "code",
   "execution_count": null,
   "id": "9828fc85",
   "metadata": {},
   "outputs": [],
   "source": [
    "int(torch.argmax(result.logits))+1"
   ]
  },
  {
   "cell_type": "markdown",
   "id": "7c72c498",
   "metadata": {},
   "source": [
    "Collecting the reviews using BeautifulSoup"
   ]
  },
  {
   "cell_type": "code",
   "execution_count": null,
   "id": "ae349fab",
   "metadata": {},
   "outputs": [],
   "source": [
    "r = requests.get('https://www.zomato.com/pune/cafe-coffee-day-5-viman-nagar/reviews')"
   ]
  },
  {
   "cell_type": "code",
   "execution_count": null,
   "id": "7761bf80",
   "metadata": {},
   "outputs": [],
   "source": [
    "soup = BeautifulSoup(r.text, 'html.parser')\n",
    "regex = re.compile('.*comment.*')\n",
    "results = soup.find_all('p', {'class':regex})\n",
    "reviews = [result.text for result in results]"
   ]
  },
  {
   "cell_type": "code",
   "execution_count": null,
   "id": "d09428ab",
   "metadata": {},
   "outputs": [],
   "source": [
    "results = soup.find_all('p', {'class':regex})\n",
    "reviews = [result.text for result in results]"
   ]
  },
  {
   "cell_type": "code",
   "execution_count": null,
   "id": "7f6eaaf7",
   "metadata": {},
   "outputs": [],
   "source": [
    "reviews"
   ]
  },
  {
   "cell_type": "markdown",
   "id": "1183812a",
   "metadata": {},
   "source": [
    "converting reviews into pandas DataFrame"
   ]
  },
  {
   "cell_type": "code",
   "execution_count": null,
   "id": "a5699bae",
   "metadata": {},
   "outputs": [],
   "source": [
    "data = pd.DataFrame(np.array(reviews), columns=['review'])"
   ]
  },
  {
   "cell_type": "code",
   "execution_count": null,
   "id": "74b27d35",
   "metadata": {},
   "outputs": [],
   "source": [
    "data.head()"
   ]
  },
  {
   "cell_type": "code",
   "execution_count": null,
   "id": "0f3f1ac5",
   "metadata": {},
   "outputs": [],
   "source": [
    "data['review'].iloc[1]"
   ]
  },
  {
   "cell_type": "markdown",
   "id": "40688a43",
   "metadata": {},
   "source": [
    "function for encoding reviews and passing through the model"
   ]
  },
  {
   "cell_type": "code",
   "execution_count": null,
   "id": "c8178454",
   "metadata": {},
   "outputs": [],
   "source": [
    "def sentiment_score(review):\n",
    "    tokens = tokenizer.encode(review, return_tensors='pt')\n",
    "    result = mdl(tokens)\n",
    "    return int(torch.argmax(result.logits))+1"
   ]
  },
  {
   "cell_type": "code",
   "execution_count": null,
   "id": "765eeba0",
   "metadata": {},
   "outputs": [],
   "source": [
    "sentiment_score(data['review'].iloc[1])"
   ]
  },
  {
   "cell_type": "code",
   "execution_count": null,
   "id": "8e56e548",
   "metadata": {},
   "outputs": [],
   "source": [
    "data['sentiment'] = data['review'].apply(lambda x: sentiment_score(x[:512]))"
   ]
  },
  {
   "cell_type": "code",
   "execution_count": null,
   "id": "646a043c",
   "metadata": {},
   "outputs": [],
   "source": [
    "data"
   ]
  },
  {
   "cell_type": "code",
   "execution_count": null,
   "id": "391015d7",
   "metadata": {},
   "outputs": [],
   "source": [
    "data['review'].iloc[5] "
   ]
  }
 ],
 "metadata": {
  "kernelspec": {
   "display_name": "Python 3 (ipykernel)",
   "language": "python",
   "name": "python3"
  },
  "language_info": {
   "codemirror_mode": {
    "name": "ipython",
    "version": 3
   },
   "file_extension": ".py",
   "mimetype": "text/x-python",
   "name": "python",
   "nbconvert_exporter": "python",
   "pygments_lexer": "ipython3",
   "version": "3.9.13"
  }
 },
 "nbformat": 4,
 "nbformat_minor": 5
}
